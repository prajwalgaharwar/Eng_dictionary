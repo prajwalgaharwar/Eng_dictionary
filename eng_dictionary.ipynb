{
 "cells": [
  {
   "cell_type": "code",
   "execution_count": 73,
   "metadata": {},
   "outputs": [],
   "source": [
    "import json\n",
    "#import difflib\n",
    "from difflib import get_close_matches\n",
    "data=json.load(open(\"data.json\",'r'))\n",
    "words= data.keys()"
   ]
  },
  {
   "cell_type": "code",
   "execution_count": 74,
   "metadata": {},
   "outputs": [],
   "source": [
    "def getWord(word):\n",
    "    if word in data:\n",
    "        return data[word]\n",
    "    else:\n",
    "        return 0"
   ]
  },
  {
   "cell_type": "code",
   "execution_count": 86,
   "metadata": {},
   "outputs": [
    {
     "name": "stdout",
     "output_type": "stream",
     "text": [
      "Enter a word: rainn\n",
      "Did you mean rain ? Enter Y for yes and N for no]? y\n",
      "\n",
      " Rain means:\n",
      "1. Precipitation in the form of liquid water drops with diameters greater than 0.5 millimetres.\n",
      "2. To fall from the clouds in drops of water.\n"
     ]
    }
   ],
   "source": [
    "word=input(\"Enter a word: \").lower()\n",
    "meaning = getWord(word)\n",
    "if type(meaning)==list:\n",
    "    print(\"\\n {} means:\".format(word.capitalize()))\n",
    "    for a in range(len(meaning)):\n",
    "        print(\"{}. {}\".format(a+1,meaning[a]))\n",
    "else:\n",
    "    match=get_close_matches(word,words,cutoff=0.8)\n",
    "    if len(match)>0:\n",
    "        mth_ip =input(\"Did you mean {} ? Enter Y for yes and N for no]? \".format(match[0]))\n",
    "        if mth_ip.lower()== 'y':\n",
    "            meaning = getWord(match[0])\n",
    "            if type(meaning)==list:\n",
    "                print(\"\\n {} means:\".format(match[0].capitalize()))\n",
    "                for a in range(len(meaning)):\n",
    "                    print(\"{}. {}\".format(a+1,meaning[a]))\n",
    "        elif mth_ip.lower()== 'n':\n",
    "            print(\"The word entered does not exist. Please check the input\")            \n",
    "    else:\n",
    "        print(\"The word entered does not exist. Please check the input\")"
   ]
  },
  {
   "cell_type": "code",
   "execution_count": null,
   "metadata": {},
   "outputs": [],
   "source": []
  }
 ],
 "metadata": {
  "kernelspec": {
   "display_name": "Python 3",
   "language": "python",
   "name": "python3"
  },
  "language_info": {
   "codemirror_mode": {
    "name": "ipython",
    "version": 3
   },
   "file_extension": ".py",
   "mimetype": "text/x-python",
   "name": "python",
   "nbconvert_exporter": "python",
   "pygments_lexer": "ipython3",
   "version": "3.8.3"
  }
 },
 "nbformat": 4,
 "nbformat_minor": 4
}
